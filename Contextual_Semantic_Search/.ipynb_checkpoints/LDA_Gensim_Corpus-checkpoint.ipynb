{
 "cells": [
  {
   "cell_type": "code",
   "execution_count": 11,
   "metadata": {},
   "outputs": [],
   "source": [
    "from gensim.test.utils import common_texts\n",
    "from gensim.corpora.dictionary import Dictionary\n",
    "import gensim\n",
    "\n",
    "ldamodel = gensim.models.ldamodel.LdaModel\n",
    "\n",
    "# Create a corpus from a list of texts\n",
    "common_dictionary = Dictionary(common_texts)\n",
    "common_corpus = [common_dictionary.doc2bow(text) for text in common_texts]\n",
    "\n",
    "# Train the model on the corpus.\n",
    "lda = ldamodel(common_corpus, num_topics=10, id2word=common_dictionary)"
   ]
  },
  {
   "cell_type": "code",
   "execution_count": 12,
   "metadata": {},
   "outputs": [],
   "source": [
    "from gensim.test.utils import datapath\n",
    "\n",
    "# Save model to disk.\n",
    "temp_file = datapath(\"model\")\n",
    "lda.save(temp_file)\n",
    "\n",
    "# Load a potentially pretrained model from disk.\n",
    "lda = ldamodel.load(temp_file)"
   ]
  },
  {
   "cell_type": "code",
   "execution_count": 14,
   "metadata": {},
   "outputs": [
    {
     "data": {
      "text/plain": [
       "[(0,\n",
       "  '0.083*\"trees\" + 0.083*\"graph\" + 0.083*\"system\" + 0.083*\"minors\" + 0.083*\"interface\"'),\n",
       " (1,\n",
       "  '0.292*\"graph\" + 0.292*\"minors\" + 0.153*\"trees\" + 0.153*\"survey\" + 0.014*\"system\"'),\n",
       " (2,\n",
       "  '0.083*\"trees\" + 0.083*\"graph\" + 0.083*\"system\" + 0.083*\"interface\" + 0.083*\"user\"'),\n",
       " (3,\n",
       "  '0.153*\"system\" + 0.153*\"user\" + 0.153*\"survey\" + 0.153*\"time\" + 0.153*\"computer\"'),\n",
       " (4,\n",
       "  '0.177*\"system\" + 0.177*\"interface\" + 0.177*\"user\" + 0.177*\"eps\" + 0.177*\"trees\"'),\n",
       " (5,\n",
       "  '0.344*\"trees\" + 0.344*\"graph\" + 0.031*\"system\" + 0.031*\"user\" + 0.031*\"minors\"'),\n",
       " (6,\n",
       "  '0.262*\"user\" + 0.262*\"response\" + 0.262*\"time\" + 0.024*\"trees\" + 0.024*\"graph\"'),\n",
       " (7,\n",
       "  '0.083*\"trees\" + 0.083*\"minors\" + 0.083*\"eps\" + 0.083*\"graph\" + 0.083*\"system\"'),\n",
       " (8,\n",
       "  '0.262*\"computer\" + 0.262*\"human\" + 0.262*\"interface\" + 0.024*\"trees\" + 0.024*\"graph\"'),\n",
       " (9,\n",
       "  '0.404*\"system\" + 0.212*\"human\" + 0.212*\"eps\" + 0.019*\"trees\" + 0.019*\"graph\"')]"
      ]
     },
     "execution_count": 14,
     "metadata": {},
     "output_type": "execute_result"
    }
   ],
   "source": [
    "lda.print_topics(num_topics=10, num_words=5)"
   ]
  },
  {
   "cell_type": "code",
   "execution_count": 46,
   "metadata": {},
   "outputs": [],
   "source": [
    "# Create a new corpus, made of previously unseen documents.\n",
    "other_texts = [['computer', 'time', 'graph'],['survey', 'response', 'eps'],['human', 'system', 'computer'], ['computer', 'response', 'time']]\n",
    "other_corpus = [common_dictionary.doc2bow(text) for text in other_texts]\n",
    "\n",
    "unseen_doc = other_corpus[3]\n",
    "vector = lda[unseen_doc] "
   ]
  },
  {
   "cell_type": "code",
   "execution_count": 40,
   "metadata": {},
   "outputs": [
    {
     "name": "stdout",
     "output_type": "stream",
     "text": [
      "computer\n",
      "human\n",
      "interface\n",
      "response\n",
      "survey\n",
      "system\n",
      "time\n",
      "user\n",
      "eps\n",
      "trees\n",
      "graph\n",
      "minors\n"
     ]
    }
   ],
   "source": [
    "for i in common_dictionary:\n",
    "    print(common_dictionary[i])"
   ]
  },
  {
   "cell_type": "code",
   "execution_count": 47,
   "metadata": {},
   "outputs": [
    {
     "data": {
      "text/plain": [
       "['computer', 'response', 'time']"
      ]
     },
     "execution_count": 47,
     "metadata": {},
     "output_type": "execute_result"
    }
   ],
   "source": [
    "other_texts[3]"
   ]
  },
  {
   "cell_type": "code",
   "execution_count": 48,
   "metadata": {},
   "outputs": [
    {
     "data": {
      "text/plain": [
       "[(0, 0.025000004),\n",
       " (1, 0.025),\n",
       " (2, 0.025000004),\n",
       " (3, 0.7749841),\n",
       " (4, 0.025),\n",
       " (5, 0.025000002),\n",
       " (6, 0.02501076),\n",
       " (7, 0.025000004),\n",
       " (8, 0.025005145),\n",
       " (9, 0.025)]"
      ]
     },
     "execution_count": 48,
     "metadata": {},
     "output_type": "execute_result"
    }
   ],
   "source": [
    "vector"
   ]
  },
  {
   "cell_type": "code",
   "execution_count": null,
   "metadata": {},
   "outputs": [],
   "source": []
  }
 ],
 "metadata": {
  "kernelspec": {
   "display_name": "tensorflow_1.1",
   "language": "python",
   "name": "tensorflow_1.1"
  },
  "language_info": {
   "codemirror_mode": {
    "name": "ipython",
    "version": 3
   },
   "file_extension": ".py",
   "mimetype": "text/x-python",
   "name": "python",
   "nbconvert_exporter": "python",
   "pygments_lexer": "ipython3",
   "version": "3.6.6"
  }
 },
 "nbformat": 4,
 "nbformat_minor": 2
}
